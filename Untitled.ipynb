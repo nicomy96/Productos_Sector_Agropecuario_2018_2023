{
 "cells": [
  {
   "cell_type": "code",
   "execution_count": null,
   "id": "f6a34df0-dfa1-47bd-92f9-2a6a718a28a4",
   "metadata": {},
   "outputs": [
    {
     "name": "stderr",
     "output_type": "stream",
     "text": [
      "/tmp/ipykernel_14416/1506019667.py:3: UserWarning: Parsing dates in DD/MM/YYYY format when dayfirst=False (the default) was specified. This may lead to inconsistently parsed dates! Specify a format to ensure consistent parsing.\n",
      "  df['REAB_FECHA_CREACION'] =pd.to_datetime(df['REAB_FECHA_CREACION'])\n"
     ]
    }
   ],
   "source": [
    "import pandas as pd\n",
    "df = pd.read_csv('datasets/abastecimiento/2013_abastecimiento.csv', sep =';')\n",
    "df['REAB_FECHA_CREACION'] =pd.to_datetime(df['REAB_FECHA_CREACION'])\n",
    "df.groupby([df['REAB_FECHA_CREACION'].dt.month, 'GRUP_NOMBRE', 'ARTI_NOMBRE']).agg({'REAB_CANTIDAD_PR':'mean'})"
   ]
  }
 ],
 "metadata": {
  "kernelspec": {
   "display_name": "Python 3 (ipykernel)",
   "language": "python",
   "name": "python3"
  },
  "language_info": {
   "codemirror_mode": {
    "name": "ipython",
    "version": 3
   },
   "file_extension": ".py",
   "mimetype": "text/x-python",
   "name": "python",
   "nbconvert_exporter": "python",
   "pygments_lexer": "ipython3",
   "version": "3.10.11"
  }
 },
 "nbformat": 4,
 "nbformat_minor": 5
}
