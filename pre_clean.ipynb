{
 "cells": [
  {
   "cell_type": "code",
   "execution_count": 8,
   "metadata": {},
   "outputs": [
    {
     "name": "stdout",
     "output_type": "stream",
     "text": [
      "begins\n",
      "------ 2021_02_abastecimiento.csv ------\n",
      "\n"
     ]
    },
    {
     "name": "stderr",
     "output_type": "stream",
     "text": [
      "/tmp/ipykernel_279/2846551947.py:29: FutureWarning: The default value of regex will change from True to False in a future version. In addition, single character regular expressions will *not* be treated as literal strings when regex=True.\n",
      "  df[column_cant] = df[column_cant].str.replace('.','')\n"
     ]
    },
    {
     "name": "stdout",
     "output_type": "stream",
     "text": [
      "------ 2018_01_abastecimiento.csv ------\n",
      "\n",
      "------ 2020_02_abastecimiento.csv ------\n",
      "\n",
      "------ 2022_02_abastecimiento.csv ------\n",
      "\n",
      "------ 2019_02_abastecimiento.csv ------\n",
      "\n",
      "------ 2018_02_abastecimiento.csv ------\n",
      "\n",
      "------ 2023_01_abastecimiento.csv ------\n",
      "\n",
      "------ 2021_01_abastecimiento.csv ------\n",
      "\n",
      "------ 2020_01_abastecimiento.csv ------\n",
      "\n",
      "------ 2022_01_abastecimiento.csv ------\n",
      "\n",
      "------ 2019_01_abastecimiento.csv ------\n",
      "\n"
     ]
    }
   ],
   "source": [
    "import pandas as pd\n",
    "import os\n",
    "ruta = 'datasets/abastecimiento/'\n",
    "files = []\n",
    "content = os.listdir(ruta)\n",
    "print('begins')\n",
    "for file in content:\n",
    "    if file.endswith('.csv'):\n",
    "        print('------',file,'------\\n')\n",
    "        if file == '2021_02_abastecimiento.csv' : \n",
    "            df = pd.read_csv(ruta + file, sep =';',  encoding='latin-1',low_memory=False)\n",
    "        else:\n",
    "            df = pd.read_csv(ruta + file, sep =';',  encoding='latin-1')\n",
    "        columns = []\n",
    "        unamed_columns = []\n",
    "        for item in list(df.columns):\n",
    "            if item.startswith('Fecha'):\n",
    "                column_fecha = item\n",
    "            elif item.startswith('Cant'):\n",
    "                column_cant = item\n",
    "            elif item.startswith('Unnamed'):\n",
    "                unamed_columns.append(item)\n",
    "            else:\n",
    "                columns.append(item)\n",
    "        if len(unamed_columns) > 0:\n",
    "            df = df.drop(unamed_columns, axis = 1)\n",
    "        df[column_fecha] = pd.to_datetime(df[column_fecha], dayfirst= True)\n",
    "        if file == '2021_02_abastecimiento.csv' : \n",
    "            df[column_cant] = df[column_cant].str.replace('.','')\n",
    "        df[column_cant] = df[column_cant].str.replace(',','.')\n",
    "        df[column_cant] = df[column_cant].astype('float64')\n",
    "        columns.append(df[column_fecha].dt.month)\n",
    "        df = df.groupby(columns).agg({column_cant:'sum'}).reset_index()\n",
    "        def mandragora(row):\n",
    "            row[column_fecha] = pd.Timestamp(year = int(file[:4]), day = 1, month = int(row[column_fecha]))\n",
    "            return row\n",
    "        df = df.apply(mandragora, axis = 1)\n",
    "        df.to_csv('datasets/abastecimiento/abastecimiento/'+file, sep =';',index=False, header=True, decimal=',', float_format='%.2f', encoding='latin-1')"
   ]
  }
 ],
 "metadata": {
  "kernelspec": {
   "display_name": "Python 3 (ipykernel)",
   "language": "python",
   "name": "python3"
  },
  "language_info": {
   "codemirror_mode": {
    "name": "ipython",
    "version": 3
   },
   "file_extension": ".py",
   "mimetype": "text/x-python",
   "name": "python",
   "nbconvert_exporter": "python",
   "pygments_lexer": "ipython3",
   "version": "3.10.11"
  }
 },
 "nbformat": 4,
 "nbformat_minor": 4
}
